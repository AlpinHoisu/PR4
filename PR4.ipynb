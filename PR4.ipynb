{
 "cells": [
  {
   "cell_type": "markdown",
   "id": "201c205e",
   "metadata": {},
   "source": [
    "<h1> C++"
   ]
  },
  {
   "attachments": {},
   "cell_type": "markdown",
   "id": "fe94a8f1",
   "metadata": {},
   "source": [
    "#include <iostream>\n",
    "#include <ctime>\n",
    "\n",
    "using namespace std;\n",
    "\n",
    "long calc()\n",
    "{\n",
    "\n",
    "    unsigned int start = clock();\n",
    "\n",
    "    long a = 0;\n",
    "    int b = 3;\n",
    "    int c = 3;\n",
    "    long repCount = 100000000;\n",
    "\n",
    "    for (long i = 0; i < repCount; i++)\n",
    "    {\n",
    "        a += b * 2 + c - i;\n",
    "    }\n",
    "\n",
    "    unsigned int end = clock();\n",
    "    int t = (end - start);\n",
    "\n",
    "    cout << \"Время работы программы на C++: \" << t << \" миллисекунд\";\n",
    "\n",
    "    return a;\n",
    "}\n",
    "\n",
    "int main()\n",
    "{\n",
    "                                                      \n",
    "    setlocale(LC_ALL, \"Russian\");\n",
    "                                                      \n",
    "    long s = calc();\n",
    "\n",
    "    return 0;\n",
    "}"
   ]
  },
  {
   "attachments": {
    "image.png": {
     "image/png": "[encoded data removed]"
    }
   },
   "cell_type": "markdown",
   "id": "e48e0249",
   "metadata": {},
   "source": [
    "![image.png](attachment:image.png)"
   ]
  },
  {
   "cell_type": "markdown",
   "id": "e5788ecf",
   "metadata": {},
   "source": [
    "<h1>Python"
   ]
  },
  {
   "cell_type": "code",
   "execution_count": 2,
   "id": "0fc783d8",
   "metadata": {},
   "outputs": [
    {
     "name": "stdout",
     "output_type": "stream",
     "text": [
      "Вычисление заняло 16.2359 секунд\n"
     ]
    }
   ],
   "source": [
    "import time\n",
    "\n",
    "def calc(a=0, b=3, c=3, repCount=100000000):\n",
    "    for i in range(1, repCount + 1):\n",
    "        a += b * 2 + c - i\n",
    "    return a\n",
    "\n",
    "start = time.perf_counter()\n",
    "res = calc()\n",
    "end = time.perf_counter()\n",
    "print(f\"Вычисление заняло {end - start:0.4f} секунд\")"
   ]
  },
  {
   "cell_type": "markdown",
   "id": "96e719e6",
   "metadata": {},
   "source": [
    "<h1> Java"
   ]
  },
  {
   "cell_type": "markdown",
   "id": "654c3705",
   "metadata": {},
   "source": [
    "public class Main {\n",
    "\n",
    "    public static void main(String[] args) {\n",
    "\n",
    "        long time = System.currentTimeMillis();\n",
    "\n",
    "        long a = 0;\n",
    "        int b = 3;\n",
    "        int c = 3;\n",
    "        long repCount = 100000000;\n",
    "\n",
    "        for (long i = 1; i <= repCount; i++)\n",
    "            a += b * 2 + c - i;\n",
    "\n",
    "        System.out.println(\"Время выполнения программы: \" + (System.currentTimeMillis() - time) + \"мc\");\n",
    "        \n",
    "    }\n",
    "}"
   ]
  },
  {
   "attachments": {
    "image.png": {
     "image/png": "[encoded data removed]"
    }
   },
   "cell_type": "markdown",
   "id": "e8733607",
   "metadata": {},
   "source": [
    "![image.png](attachment:image.png)"
   ]
  },
  {
   "cell_type": "markdown",
   "id": "ca64961d",
   "metadata": {},
   "source": [
    "<h1> Assembler"
   ]
  },
  {
   "attachments": {},
   "cell_type": "markdown",
   "id": "36b37415",
   "metadata": {},
   "source": [
    "#include <iostream>\n",
    "#include <ctime>\n",
    "\n",
    "using namespace std;\n",
    "\n",
    "long fnc(int n){\n",
    "    srand(static_cast<unsigned int>(time(0)));\n",
    "    \n",
    "    long a = 0;\n",
    "    long res = 0;\n",
    "    int b = 3;\n",
    "    int c = 3;\n",
    "    long s = 0;\n",
    "    long counter = 1000;\n",
    "    \n",
    "    for (int j = 1; j <= n; j++){\n",
    "        a = 0;\n",
    "        for (int i = 1; i <= 100000; i++){\n",
    "            res = 0;\n",
    "            __asm {\n",
    "                MOV AX, 0\n",
    "                MOV BX, b\n",
    "                SHL BX, 1\n",
    "                MOV DX, j\n",
    "                MOV ECX, counter\n",
    "                L1:\n",
    "                    ADD AX, BX\n",
    "                    ADD AX, c\n",
    "                    SUB AX, DX\n",
    "                    LOOP L1\n",
    "                MOV res, AX\n",
    "            }\n",
    "            a += res;\n",
    "        }\n",
    "        \n",
    "        s+=a;\n",
    "    }\n",
    "    cout << \"Время работы программы на assembler: \" << clock()/1000000.0 << \" мс\" << endl;\n",
    "    return s;\n",
    "}\n",
    "\n",
    "int main() {\n",
    "                                                                                             \n",
    "    setlocale(LC_ALL, \"Russian\");                                                                                \n",
    "\n",
    "    long s = fnc(2);\n",
    "    \n",
    "    return 0;\n",
    "}"
   ]
  },
  {
   "attachments": {
    "image.png": {
     "image/png": "[encoded data removed]"
    }
   },
   "cell_type": "markdown",
   "id": "7d898e9c",
   "metadata": {},
   "source": [
    "![image.png](attachment:image.png)"
   ]
  },
  {
   "cell_type": "code",
   "execution_count": null,
   "id": "597b91b4",
   "metadata": {},
   "outputs": [],
   "source": []
  }
 ],
 "metadata": {
  "kernelspec": {
   "display_name": "Python 3",
   "language": "python",
   "name": "python3"
  },
  "language_info": {
   "codemirror_mode": {
    "name": "ipython",
    "version": 3
   },
   "file_extension": ".py",
   "mimetype": "text/x-python",
   "name": "python",
   "nbconvert_exporter": "python",
   "pygments_lexer": "ipython3",
   "version": "3.8.8"
  }
 },
 "nbformat": 4,
 "nbformat_minor": 5
}
